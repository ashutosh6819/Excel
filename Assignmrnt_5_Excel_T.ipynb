{
 "cells": [
  {
   "cell_type": "markdown",
   "id": "ef209411",
   "metadata": {},
   "source": [
    "Q1. What is a ribbon in Excel?\n",
    "\n",
    "    Answer - the ribbon is the strip of buttons and icons located above the work area. The ribbon replaces the menus and toolbars found in earlier versions of Excel.\n",
    "\n",
    "Q2. What is the order of operations used for evaluating formulas in excel?\n",
    "\n",
    "    Answer - When evaluating a formula, Excel follows a standard math protocol called \"order of operations\". In general, Excel's order of operation follows the acronym PEMDAS (Parentheses, Exponents, Multiplication, Division, Addition, Subtraction) but with some customization to handle the formula syntax in a spreadsheet.\n",
    "\n",
    "Q3. Reverse the string in the excel column and check whether the string is palindrome or not in the next column for each value.\n",
    "\n",
    "    Word            - EYE EAR\n",
    "    Reverse Word    - EYE EYE\n",
    "    Is Palindrome   - True False\n",
    "\n",
    "Answer - \n",
    "\n",
    "\n",
    "Q4. What is the use of Name Box in MS-Excel?\n",
    "\n",
    "    Answer - In Excel, the Name Box refers to an input box directly to the left of the formula bar. The Name Box normally displays the address of the \"active cell\" on the worksheet. You can also use the name box to quickly create a named range. Another use for the Name Box is to navigate quickly to any range in a worksheet.\n"
   ]
  },
  {
   "cell_type": "code",
   "execution_count": null,
   "id": "cecd2636",
   "metadata": {},
   "outputs": [],
   "source": []
  }
 ],
 "metadata": {
  "kernelspec": {
   "display_name": "Python 3",
   "language": "python",
   "name": "python3"
  },
  "language_info": {
   "codemirror_mode": {
    "name": "ipython",
    "version": 3
   },
   "file_extension": ".py",
   "mimetype": "text/x-python",
   "name": "python",
   "nbconvert_exporter": "python",
   "pygments_lexer": "ipython3",
   "version": "3.8.8"
  }
 },
 "nbformat": 4,
 "nbformat_minor": 5
}
