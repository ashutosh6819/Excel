{
 "cells": [
  {
   "cell_type": "markdown",
   "id": "a9463148",
   "metadata": {},
   "source": [
    "QUE 1. What is Excel? Why do we use Excel?\n",
    "\n",
    "    Answer - Microsoft Excel is a helpful and powerful program for data analysis and documentation. It is a spreadsheet program, which contains a number of columns and rows, where each intersection of a column and a row is a “cell”. \n",
    "\n",
    "QUE 2. List all the versions of Microsoft excel. Compare excel software provided from multiple vendors.\n",
    "\n",
    "Answer - \n",
    "\n",
    "QUE 3. How to create bar charts in excel, demonstrated with practical examples.\n",
    "\n",
    "    Answer - \n",
    "    \n",
    "    Step 1: Enter the data into the excel sheets in the table format, as shown in the figure.\n",
    "    \n",
    "    Step 2: Select the entire table by clicking and dragging or placing the cursor anywhere in the table and pressing CTRL+A to select the entire table.\n",
    "    \n",
    "    Step 3: Go to the “Insert” tab and move the cursor to the insert bar chart option, and under the 3D bar chart, select the 100% full stacked bar chart, as shown in the below mentioned figure.\n",
    "    \n",
    "    Step 4: Add a suitable title to the chart, as shown in the figure.\n",
    "    \n",
    "    Step 5: Right-click on the data series and choose the add data labels to add the data label option, as shown in the screenshot.\n",
    "    \n",
    "    \n",
    "QUE 4. Create an analytics dashboard in python and present your findings.\n",
    "\n",
    "Answer - \n",
    "\n",
    "QUE 5. How to connect Excel with the databases.\n",
    "\n",
    "    Answer - To connect Excel to a database in SQL Database, open Excel and then create a new workbook or open an existing Excel workbook.\n",
    "\n",
    "    In the menu bar at the top of the page, select the Data tab, select Get Data, select From Azure, and then select From Azure SQL Database.\n",
    "\n"
   ]
  },
  {
   "cell_type": "code",
   "execution_count": null,
   "id": "ba1503f4",
   "metadata": {},
   "outputs": [],
   "source": []
  }
 ],
 "metadata": {
  "kernelspec": {
   "display_name": "Python 3",
   "language": "python",
   "name": "python3"
  },
  "language_info": {
   "codemirror_mode": {
    "name": "ipython",
    "version": 3
   },
   "file_extension": ".py",
   "mimetype": "text/x-python",
   "name": "python",
   "nbconvert_exporter": "python",
   "pygments_lexer": "ipython3",
   "version": "3.8.8"
  }
 },
 "nbformat": 4,
 "nbformat_minor": 5
}
